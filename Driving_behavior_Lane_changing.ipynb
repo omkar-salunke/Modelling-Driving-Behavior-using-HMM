{
  "nbformat": 4,
  "nbformat_minor": 0,
  "metadata": {
    "colab": {
      "name": "Learning_git.ipynb",
      "provenance": [],
      "collapsed_sections": [],
      "authorship_tag": "ABX9TyPGmUXCmf/VV1hI8KuRrlDN",
      "include_colab_link": true
    },
    "kernelspec": {
      "name": "python3",
      "display_name": "Python 3"
    }
  },
  "cells": [
    {
      "cell_type": "markdown",
      "metadata": {
        "id": "view-in-github",
        "colab_type": "text"
      },
      "source": [
        "<a href=\"https://colab.research.google.com/github/omkar-salunke/Modelling-Driving-Behavior-using-HMM/blob/master/Driving_behavior_Lane_changing.ipynb\" target=\"_parent\"><img src=\"https://colab.research.google.com/assets/colab-badge.svg\" alt=\"Open In Colab\"/></a>"
      ]
    },
    {
      "cell_type": "code",
      "metadata": {
        "id": "W8RTjwOUoZBd",
        "colab_type": "code",
        "colab": {
          "base_uri": "https://localhost:8080/",
          "height": 101
        },
        "outputId": "03a1a9cd-fb41-4f41-d5f6-77ee487110ff"
      },
      "source": [
        "!git clone https://github.com/omkar-salunke/Modelling-Driving-Behavior-using-HMM.git"
      ],
      "execution_count": 1,
      "outputs": [
        {
          "output_type": "stream",
          "text": [
            "Cloning into 'Modelling-Driving-Behavior-using-HMM'...\n",
            "remote: Enumerating objects: 843, done.\u001b[K\n",
            "remote: Total 843 (delta 0), reused 0 (delta 0), pack-reused 843\u001b[K\n",
            "Receiving objects: 100% (843/843), 4.89 MiB | 3.42 MiB/s, done.\n",
            "Resolving deltas: 100% (47/47), done.\n"
          ],
          "name": "stdout"
        }
      ]
    },
    {
      "cell_type": "code",
      "metadata": {
        "id": "jJAkV6GNo70o",
        "colab_type": "code",
        "colab": {}
      },
      "source": [
        "import numpy as np\n",
        "import matplotlib.pyplot as plt\n",
        "%matplotlib inline\n",
        "import os"
      ],
      "execution_count": 2,
      "outputs": []
    },
    {
      "cell_type": "code",
      "metadata": {
        "id": "-UERNRzBtF2Q",
        "colab_type": "code",
        "colab": {
          "base_uri": "https://localhost:8080/",
          "height": 34
        },
        "outputId": "aaba16dd-5d10-43a9-b060-371d1f29e8f3"
      },
      "source": [
        "!ls Modelling-Driving-Behavior-using-HMM/Audio"
      ],
      "execution_count": 3,
      "outputs": [
        {
          "output_type": "stream",
          "text": [
            "apple  book  cat  dog  eye  fast  god  human\n"
          ],
          "name": "stdout"
        }
      ]
    },
    {
      "cell_type": "code",
      "metadata": {
        "id": "8bcHfP3hs1cq",
        "colab_type": "code",
        "colab": {
          "base_uri": "https://localhost:8080/",
          "height": 34
        },
        "outputId": "bf494c82-4cd0-4aa5-d559-77a543c4a4f6"
      },
      "source": [
        "fpaths = []\n",
        "labels = []\n",
        "spoken = []\n",
        "for f in os.listdir('Modelling-Driving-Behavior-using-HMM/Audio'):\n",
        "    for w in os.listdir('Modelling-Driving-Behavior-using-HMM/Audio/' + f):\n",
        "        fpaths.append('Modelling-Driving-Behavior-using-HMM/Audio/' + f + '/' + w)\n",
        "        labels.append(f)\n",
        "        if f not in spoken:\n",
        "            spoken.append(f)\n",
        "print('Words spoken:', spoken)\n",
        "\n",
        "\n"
      ],
      "execution_count": 4,
      "outputs": [
        {
          "output_type": "stream",
          "text": [
            "Words spoken: ['god', 'fast', 'human', 'cat', 'apple', 'book', 'dog', 'eye']\n"
          ],
          "name": "stdout"
        }
      ]
    },
    {
      "cell_type": "code",
      "metadata": {
        "id": "dCMjUj2xs6HC",
        "colab_type": "code",
        "colab": {
          "base_uri": "https://localhost:8080/",
          "height": 118
        },
        "outputId": "5040704c-eb55-4452-885b-2ea9db066db2"
      },
      "source": [
        "#Files can be heard in Linux using the following commands from the command line\n",
        "#cat kiwi07.wav | aplay -f S16_LE -t wav -r 8000\n",
        "#Files are signed 16 bit raw, sample rate 8000\n",
        "from scipy.io import wavfile\n",
        "\n",
        "data = np.zeros((len(fpaths), 32000))\n",
        "maxsize = -1\n",
        "for n,file in enumerate(fpaths):\n",
        "    _, d = wavfile.read(file)\n",
        "    #print d.shape\n",
        "    data[n, :d.shape[0]] = d\n",
        "    if d.shape[0] > maxsize:\n",
        "        maxsize = d.shape[0]\n",
        "data = data[:, :maxsize]\n",
        "\n",
        "#Each sample file is one row in data, and has one entry in labels\n",
        "print('Number of files total:', data.shape[0])\n",
        "all_labels = np.zeros(data.shape[0])\n",
        "for n, l in enumerate(set(labels)):\n",
        "    all_labels[np.array([i for i, _ in enumerate(labels) if _ == l])] = n\n",
        "    \n",
        "print('Labels and label indices', all_labels)"
      ],
      "execution_count": 5,
      "outputs": [
        {
          "output_type": "stream",
          "text": [
            "Number of files total: 120\n",
            "Labels and label indices [6. 6. 6. 6. 6. 6. 6. 6. 6. 6. 6. 6. 6. 6. 6. 4. 4. 4. 4. 4. 4. 4. 4. 4.\n",
            " 4. 4. 4. 4. 4. 4. 5. 5. 5. 5. 5. 5. 5. 5. 5. 5. 5. 5. 5. 5. 5. 7. 7. 7.\n",
            " 7. 7. 7. 7. 7. 7. 7. 7. 7. 7. 7. 7. 0. 0. 0. 0. 0. 0. 0. 0. 0. 0. 0. 0.\n",
            " 0. 0. 0. 2. 2. 2. 2. 2. 2. 2. 2. 2. 2. 2. 2. 2. 2. 2. 3. 3. 3. 3. 3. 3.\n",
            " 3. 3. 3. 3. 3. 3. 3. 3. 3. 1. 1. 1. 1. 1. 1. 1. 1. 1. 1. 1. 1. 1. 1. 1.]\n"
          ],
          "name": "stdout"
        }
      ]
    },
    {
      "cell_type": "code",
      "metadata": {
        "id": "WWHKvT9iuNyJ",
        "colab_type": "code",
        "colab": {}
      },
      "source": [
        "import scipy\n",
        "\n",
        "def stft(x, fftsize=64, overlap_pct=.5):   \n",
        "    #Modified from http://stackoverflow.com/questions/2459295/stft-and-istft-in-python\n",
        "    hop = int(fftsize * (1 - overlap_pct))\n",
        "    w = scipy.hanning(fftsize + 1)[:-1]    \n",
        "    raw = np.array([np.fft.rfft(w * x[i:i + fftsize]) for i in range(0, len(x) - fftsize, hop)])\n",
        "    return raw[:, :(fftsize // 2)]"
      ],
      "execution_count": 6,
      "outputs": []
    },
    {
      "cell_type": "code",
      "metadata": {
        "id": "fZFypUW9udK3",
        "colab_type": "code",
        "colab": {
          "base_uri": "https://localhost:8080/",
          "height": 640
        },
        "outputId": "33a1197e-2d94-46f5-9f61-cc703a635e87"
      },
      "source": [
        "import matplotlib.pyplot as plt\n",
        "plt.plot(data[0, :], color='steelblue')\n",
        "plt.title('Timeseries example for %s'%labels[0])\n",
        "plt.xlim(0, 3500)\n",
        "plt.xlabel('Time (samples)')\n",
        "plt.ylabel('Amplitude (signed 16 bit)')\n",
        "plt.figure()\n",
        "\n",
        "# + 1 to avoid log of 0\n",
        "log_freq = 20 * np.log(np.abs(stft(data[0, :])) + 1)\n",
        "print(log_freq.shape)\n",
        "plt.imshow(log_freq, cmap='gray', interpolation=None)\n",
        "plt.xlabel('Freq (bin)')\n",
        "plt.ylabel('Time (overlapped frames)')\n",
        "plt.ylim(log_freq.shape[1])\n",
        "plt.title('PSD of %s example'%labels[0])"
      ],
      "execution_count": 7,
      "outputs": [
        {
          "output_type": "stream",
          "text": [
            "(119, 32)\n"
          ],
          "name": "stdout"
        },
        {
          "output_type": "stream",
          "text": [
            "/usr/local/lib/python3.6/dist-packages/ipykernel_launcher.py:6: DeprecationWarning: scipy.hanning is deprecated and will be removed in SciPy 2.0.0, use numpy.hanning instead\n",
            "  \n"
          ],
          "name": "stderr"
        },
        {
          "output_type": "execute_result",
          "data": {
            "text/plain": [
              "Text(0.5, 1.0, 'PSD of god example')"
            ]
          },
          "metadata": {
            "tags": []
          },
          "execution_count": 7
        },
        {
          "output_type": "display_data",
          "data": {
            "image/png": "[encoded data removed]",
            "text/plain": [
              "<Figure size 432x288 with 1 Axes>"
            ]
          },
          "metadata": {
            "tags": [],
            "needs_background": "light"
          }
        },
        {
          "output_type": "display_data",
          "data": {
            "image/png": "[encoded data removed]",
            "text/plain": [
              "<Figure size 432x288 with 1 Axes>"
            ]
          },
          "metadata": {
            "tags": [],
            "needs_background": "light"
          }
        }
      ]
    },
    {
      "cell_type": "code",
      "metadata": {
        "id": "rrertuz-uwX1",
        "colab_type": "code",
        "colab": {}
      },
      "source": [
        "from numpy.lib.stride_tricks import as_strided\n",
        "\n",
        "#Peak detection using the technique described here: http://kkjkok.blogspot.com/2013/12/dsp-snippets_9.html \n",
        "def peakfind(x, n_peaks, l_size=3, r_size=3, c_size=3, f=np.mean):\n",
        "    win_size = l_size + r_size + c_size\n",
        "    shape = x.shape[:-1] + (x.shape[-1] - win_size + 1, win_size)\n",
        "    strides = x.strides + (x.strides[-1],)\n",
        "    xs = as_strided(x, shape=shape, strides=strides)\n",
        "    def is_peak(x):\n",
        "        centered = (np.argmax(x) == l_size + int(c_size/2))\n",
        "        l = x[:l_size]\n",
        "        c = x[l_size:l_size + c_size]\n",
        "        r = x[-r_size:]\n",
        "        passes = np.max(c) > np.max([f(l), f(r)])\n",
        "        if centered and passes:\n",
        "            return np.max(c)\n",
        "        else:\n",
        "            return -1\n",
        "    r = np.apply_along_axis(is_peak, 1, xs)\n",
        "    top = np.argsort(r, None)[::-1]\n",
        "    heights = r[top[:n_peaks]]\n",
        "    #Add l_size and half - 1 of center size to get to actual peak location\n",
        "    top[top > -1] = top[top > -1] + l_size + int(c_size / 2.)\n",
        "    return heights, top[:n_peaks]"
      ],
      "execution_count": 8,
      "outputs": []
    },
    {
      "cell_type": "code",
      "metadata": {
        "id": "4kv7H2UDu6Wh",
        "colab_type": "code",
        "colab": {
          "base_uri": "https://localhost:8080/",
          "height": 346
        },
        "outputId": "1d9169d2-0e3e-4c89-c7eb-e6c54cd1b1b5"
      },
      "source": [
        "plot_data = np.abs(stft(data[20, :]))[15, :]\n",
        "values, locs = peakfind(plot_data, n_peaks=8)\n",
        "fp = locs[values > -1]\n",
        "fv = values[values > -1]\n",
        "plt.plot(plot_data, color='steelblue')\n",
        "plt.plot(fp, fv, 'x', color='darkred')\n",
        "plt.title('Peak location example')\n",
        "plt.xlabel('Frequency (bins)')\n",
        "plt.ylabel('Amplitude')"
      ],
      "execution_count": 9,
      "outputs": [
        {
          "output_type": "stream",
          "text": [
            "/usr/local/lib/python3.6/dist-packages/ipykernel_launcher.py:6: DeprecationWarning: scipy.hanning is deprecated and will be removed in SciPy 2.0.0, use numpy.hanning instead\n",
            "  \n"
          ],
          "name": "stderr"
        },
        {
          "output_type": "execute_result",
          "data": {
            "text/plain": [
              "Text(0, 0.5, 'Amplitude')"
            ]
          },
          "metadata": {
            "tags": []
          },
          "execution_count": 9
        },
        {
          "output_type": "display_data",
          "data": {
            "image/png": "[encoded data removed]",
            "text/plain": [
              "<Figure size 432x288 with 1 Axes>"
            ]
          },
          "metadata": {
            "tags": [],
            "needs_background": "light"
          }
        }
      ]
    },
    {
      "cell_type": "code",
      "metadata": {
        "id": "uilFp-o0u-hI",
        "colab_type": "code",
        "colab": {
          "base_uri": "https://localhost:8080/",
          "height": 252
        },
        "outputId": "e699a709-e884-42a0-e499-056bc6dad42e"
      },
      "source": [
        "#This processing (top freq peaks) only works for single speaker case... need better features for multispeaker!\n",
        "#MFCC (or deep NN/automatic feature extraction) could be interesting\n",
        "all_obs = []\n",
        "for i in range(data.shape[0]):\n",
        "    d = np.abs(stft(data[i, :]))\n",
        "    n_dim = 6\n",
        "    obs = np.zeros((n_dim, d.shape[0]))\n",
        "    for r in range(d.shape[0]):\n",
        "        _, t = peakfind(d[r, :], n_peaks=n_dim)\n",
        "        obs[:, r] = t.copy()\n",
        "    if i % 10 == 0:\n",
        "        print(\"Processed obs %s\" % i)\n",
        "    all_obs.append(obs)\n",
        "    \n",
        "all_obs = np.atleast_3d(all_obs)"
      ],
      "execution_count": 10,
      "outputs": [
        {
          "output_type": "stream",
          "text": [
            "/usr/local/lib/python3.6/dist-packages/ipykernel_launcher.py:6: DeprecationWarning: scipy.hanning is deprecated and will be removed in SciPy 2.0.0, use numpy.hanning instead\n",
            "  \n"
          ],
          "name": "stderr"
        },
        {
          "output_type": "stream",
          "text": [
            "Processed obs 0\n",
            "Processed obs 10\n",
            "Processed obs 20\n",
            "Processed obs 30\n",
            "Processed obs 40\n",
            "Processed obs 50\n",
            "Processed obs 60\n",
            "Processed obs 70\n",
            "Processed obs 80\n",
            "Processed obs 90\n",
            "Processed obs 100\n",
            "Processed obs 110\n"
          ],
          "name": "stdout"
        }
      ]
    },
    {
      "cell_type": "code",
      "metadata": {
        "id": "ssfdN7MIvEts",
        "colab_type": "code",
        "colab": {
          "base_uri": "https://localhost:8080/",
          "height": 50
        },
        "outputId": "78eab404-477e-48b6-b48c-1d4675f8870c"
      },
      "source": [
        "print(all_obs.shape)\n",
        "print(data.shape)"
      ],
      "execution_count": 11,
      "outputs": [
        {
          "output_type": "stream",
          "text": [
            "(120, 6, 119)\n",
            "(120, 3841)\n"
          ],
          "name": "stdout"
        }
      ]
    },
    {
      "cell_type": "code",
      "metadata": {
        "id": "dlCarwyVvM_s",
        "colab_type": "code",
        "colab": {
          "base_uri": "https://localhost:8080/",
          "height": 202
        },
        "outputId": "c72f769a-093b-4096-e07a-1b880655b282"
      },
      "source": [
        "import scipy.stats as st\n",
        "from scipy.stats import multivariate_normal\n",
        "import numpy as np\n",
        "\n",
        "class gmmhmm:\n",
        "    #This class converted with modifications from https://code.google.com/p/hmm-speech-recognition/source/browse/Word.m\n",
        "    def __init__(self, n_states):\n",
        "        self.n_states = n_states\n",
        "        self.random_state = np.random.RandomState(0)\n",
        "        \n",
        "        #Normalize random initial state\n",
        "        self.prior = self._normalize(self.random_state.rand(self.n_states, 1))\n",
        "        self.A = self._stochasticize(self.random_state.rand(self.n_states, self.n_states))\n",
        "        \n",
        "        self.mu = None\n",
        "        self.covs = None\n",
        "        self.n_dims = None\n",
        "           \n",
        "    def _forward(self, B):\n",
        "        log_likelihood = 0.\n",
        "        T = B.shape[1]\n",
        "        alpha = np.zeros(B.shape)\n",
        "        for t in range(T):\n",
        "            if t == 0:\n",
        "                alpha[:, t] = B[:, t] * self.prior.ravel()\n",
        "            else:\n",
        "                alpha[:, t] = B[:, t] * np.dot(self.A.T, alpha[:, t - 1])\n",
        "         \n",
        "            alpha_sum = np.sum(alpha[:, t])\n",
        "            alpha[:, t] /= alpha_sum\n",
        "            log_likelihood = log_likelihood + np.log(alpha_sum)\n",
        "        return log_likelihood, alpha\n",
        "    \n",
        "    def _backward(self, B):\n",
        "        T = B.shape[1]\n",
        "        beta = np.zeros(B.shape);\n",
        "           \n",
        "        beta[:, -1] = np.ones(B.shape[0])\n",
        "            \n",
        "        for t in range(T - 1)[::-1]:\n",
        "            beta[:, t] = np.dot(self.A, (B[:, t + 1] * beta[:, t + 1]))\n",
        "            beta[:, t] /= np.sum(beta[:, t])\n",
        "        return beta\n",
        "    \n",
        "    def _state_likelihood(self, obs):\n",
        "        obs = np.atleast_2d(obs)\n",
        "        B = np.zeros((self.n_states, obs.shape[1]))\n",
        "        for s in range(self.n_states):\n",
        "            #Needs scipy 0.14\n",
        "            np.random.seed(self.random_state.randint(1))\n",
        "            B[s, :] = st.multivariate_normal.pdf(\n",
        "                obs.T, mean=self.mu[:, s].T, cov=self.covs[:, :, s].T)\n",
        "            #This function can (and will!) return values >> 1\n",
        "            #See the discussion here for the equivalent matlab function\n",
        "            #https://groups.google.com/forum/#!topic/comp.soft-sys.matlab/YksWK0T74Ak\n",
        "            #Key line: \"Probabilities have to be less than 1,\n",
        "            #Densities can be anything, even infinite (at individual points).\"\n",
        "            #This is evaluating the density at individual points...\n",
        "        return B\n",
        "    \n",
        "    def _normalize(self, x):\n",
        "        return (x + (x == 0)) / np.sum(x)\n",
        "    \n",
        "    def _stochasticize(self, x):\n",
        "        return (x + (x == 0)) / np.sum(x, axis=1)\n",
        "    \n",
        "    def _em_init(self, obs):\n",
        "        #Using this _em_init function allows for less required constructor args\n",
        "        if self.n_dims is None:\n",
        "            self.n_dims = obs.shape[0]\n",
        "        if self.mu is None:\n",
        "            subset = self.random_state.choice(np.arange(self.n_dims), size=self.n_states, replace=False)\n",
        "            self.mu = obs[:, subset]\n",
        "        if self.covs is None:\n",
        "            self.covs = np.zeros((self.n_dims, self.n_dims, self.n_states))\n",
        "            self.covs += np.diag(np.diag(np.cov(obs)))[:, :, None]\n",
        "        return self\n",
        "    \n",
        "    def _em_step(self, obs): \n",
        "        obs = np.atleast_2d(obs)\n",
        "        B = self._state_likelihood(obs)\n",
        "        T = obs.shape[1]\n",
        "        \n",
        "        log_likelihood, alpha = self._forward(B)\n",
        "        beta = self._backward(B)\n",
        "        \n",
        "        xi_sum = np.zeros((self.n_states, self.n_states))\n",
        "        gamma = np.zeros((self.n_states, T))\n",
        "        \n",
        "        for t in range(T - 1):\n",
        "            partial_sum = self.A * np.dot(alpha[:, t], (beta[:, t] * B[:, t + 1]).T)\n",
        "            xi_sum += self._normalize(partial_sum)\n",
        "            partial_g = alpha[:, t] * beta[:, t]\n",
        "            gamma[:, t] = self._normalize(partial_g)\n",
        "              \n",
        "        partial_g = alpha[:, -1] * beta[:, -1]\n",
        "        gamma[:, -1] = self._normalize(partial_g)\n",
        "        \n",
        "        expected_prior = gamma[:, 0]\n",
        "        expected_A = self._stochasticize(xi_sum)\n",
        "        \n",
        "        expected_mu = np.zeros((self.n_dims, self.n_states))\n",
        "        expected_covs = np.zeros((self.n_dims, self.n_dims, self.n_states))\n",
        "        \n",
        "        gamma_state_sum = np.sum(gamma, axis=1)\n",
        "        #Set zeros to 1 before dividing\n",
        "        gamma_state_sum = gamma_state_sum + (gamma_state_sum == 0)\n",
        "        \n",
        "        for s in range(self.n_states):\n",
        "            gamma_obs = obs * gamma[s, :]\n",
        "            expected_mu[:, s] = np.sum(gamma_obs, axis=1) / gamma_state_sum[s]\n",
        "            partial_covs = np.dot(gamma_obs, obs.T) / gamma_state_sum[s] - np.dot(expected_mu[:, s], expected_mu[:, s].T)\n",
        "            #Symmetrize\n",
        "            partial_covs = np.triu(partial_covs) + np.triu(partial_covs).T - np.diag(partial_covs)\n",
        "        \n",
        "        #Ensure positive semidefinite by adding diagonal loading\n",
        "        expected_covs += .01 * np.eye(self.n_dims)[:, :, None]\n",
        "        \n",
        "        self.prior = expected_prior\n",
        "        self.mu = expected_mu\n",
        "        self.covs = expected_covs\n",
        "        self.A = expected_A\n",
        "        return log_likelihood\n",
        "    \n",
        "    def fit(self, obs, n_iter=8):\n",
        "        #Support for 2D and 3D arrays\n",
        "        #2D should be n_features, n_dims\n",
        "        #3D should be n_examples, n_features, n_dims\n",
        "        #For example, with 6 features per speech segment, 105 different words\n",
        "        #this array should be size\n",
        "        #(105, 6, X) where X is the number of frames with features extracted\n",
        "        #For a single example file, the array should be size (6, X)\n",
        "        if len(obs.shape) == 2:\n",
        "            for i in range(n_iter):\n",
        "                self._em_init(obs)\n",
        "                log_likelihood = self._em_step(obs)\n",
        "        elif len(obs.shape) == 3:\n",
        "            count = obs.shape[0]\n",
        "            for n in range(count):\n",
        "                for i in range(n_iter):\n",
        "                    self._em_init(obs[n, :, :])\n",
        "                    log_likelihood = self._em_step(obs[n, :, :])\n",
        "        return self\n",
        "    \n",
        "    def transform(self, obs):\n",
        "        #Support for 2D and 3D arrays\n",
        "        #2D should be n_features, n_dims\n",
        "        #3D should be n_examples, n_features, n_dims\n",
        "        #For example, with 6 features per speech segment, 105 different words\n",
        "        #this array should be size\n",
        "        #(105, 6, X) where X is the number of frames with features extracted\n",
        "        #For a single example file, the array should be size (6, X)\n",
        "        if len(obs.shape) == 2:\n",
        "            B = self._state_likelihood(obs)\n",
        "            log_likelihood, _ = self._forward(B)\n",
        "            return log_likelihood\n",
        "        elif len(obs.shape) == 3:\n",
        "            count = obs.shape[0]\n",
        "            out = np.zeros((count,))\n",
        "            for n in range(count):\n",
        "                B = self._state_likelihood(obs[n, :, :])\n",
        "                log_likelihood, _ = self._forward(B)\n",
        "                out[n] = log_likelihood\n",
        "            return out\n",
        "\n",
        "if __name__ == \"__main__\":\n",
        "    rstate = np.random.RandomState(0)\n",
        "    t1 = np.ones((4, 40)) + .001 * rstate.rand(4, 40)\n",
        "    t1 /= t1.sum(axis=0)\n",
        "    t2 = rstate.rand(*t1.shape)\n",
        "    t2 /= t2.sum(axis=0)\n",
        "    \n",
        "    m1 = gmmhmm(2)\n",
        "    m1.fit(t1)\n",
        "    m2 = gmmhmm(2)\n",
        "    m2.fit(t2)\n",
        "    \n",
        "    m1t1 = m1.transform(t1)\n",
        "    m2t1 = m2.transform(t1)\n",
        "    print(\"Likelihoods for test set 1\")\n",
        "    print(\"M1:\", m1t1)\n",
        "    print(\"M2:\", m2t1)\n",
        "    print(\"Prediction for test set 1\")\n",
        "    print(\"Model\", np.argmax([m1t1, m2t1]) + 1)\n",
        "    print()\n",
        "    \n",
        "    m1t2 = m1.transform(t2)\n",
        "    m2t2 = m2.transform(t2)\n",
        "    print(\"Likelihoods for test set 2\")\n",
        "    print(\"M1:\", m1t2)\n",
        "    print(\"M2:\", m2t2)\n",
        "    print(\"Prediction for test set 2\")\n",
        "    print(\"Model\", np.argmax([m1t2, m2t2]) + 1)"
      ],
      "execution_count": 12,
      "outputs": [
        {
          "output_type": "stream",
          "text": [
            "Likelihoods for test set 1\n",
            "M1: 221.3941427176605\n",
            "M2: 165.68854588913212\n",
            "Prediction for test set 1\n",
            "Model 1\n",
            "\n",
            "Likelihoods for test set 2\n",
            "M1: 33.20045732115577\n",
            "M2: 60.30510397138957\n",
            "Prediction for test set 2\n",
            "Model 2\n"
          ],
          "name": "stdout"
        }
      ]
    },
    {
      "cell_type": "code",
      "metadata": {
        "id": "1h0zYmBrx3eQ",
        "colab_type": "code",
        "colab": {}
      },
      "source": [
        "from sklearn.model_selection import StratifiedShuffleSplit\n",
        "sss = StratifiedShuffleSplit(test_size=0.1, random_state=0)\n",
        "\n",
        "for n,i in enumerate(all_obs):\n",
        "    all_obs[n] /= all_obs[n].sum(axis=0)\n"
      ],
      "execution_count": 13,
      "outputs": []
    },
    {
      "cell_type": "code",
      "metadata": {
        "id": "6EUg7wJEvk_v",
        "colab_type": "code",
        "colab": {}
      },
      "source": [
        "for train_index, test_index in sss.split(all_obs, all_labels):\n",
        "    X_train, X_test = all_obs[train_index, ...], all_obs[test_index, ...]\n",
        "    y_train, y_test = all_labels[train_index], all_labels[test_index]"
      ],
      "execution_count": 14,
      "outputs": []
    },
    {
      "cell_type": "code",
      "metadata": {
        "id": "GuDgpUG2z7UR",
        "colab_type": "code",
        "colab": {
          "base_uri": "https://localhost:8080/",
          "height": 50
        },
        "outputId": "2f633593-8849-425a-e14f-528e999f620c"
      },
      "source": [
        "print('Size of training matrix:', X_train.shape)\n",
        "print('Size of testing matrix:', X_test.shape)"
      ],
      "execution_count": 15,
      "outputs": [
        {
          "output_type": "stream",
          "text": [
            "Size of training matrix: (108, 6, 119)\n",
            "Size of testing matrix: (12, 6, 119)\n"
          ],
          "name": "stdout"
        }
      ]
    },
    {
      "cell_type": "code",
      "metadata": {
        "id": "2t6h4eEe69W8",
        "colab_type": "code",
        "colab": {
          "base_uri": "https://localhost:8080/",
          "height": 34
        },
        "outputId": "726e1d5a-c7e5-4a6a-8615-823317870a47"
      },
      "source": [
        "ys = set(all_labels)\n",
        "ms = [gmmhmm(6) for y in ys]\n",
        "_ = [m.fit(X_train[y_train == y, :, :]) for m, y in zip(ms, ys)]\n",
        "ps = [m.transform(X_test) for m in ms]\n",
        "res = np.vstack(ps)\n",
        "predicted_labels = np.argmax(res, axis=0)\n",
        "dictionary = ['eye', 'apple', 'book', 'human', 'god', 'fast', 'dog', 'cat']\n",
        "missed = (predicted_labels != y_test)\n",
        "print('Test accuracy: %.2f percent' % (100 * (1 - np.mean(missed))))"
      ],
      "execution_count": 16,
      "outputs": [
        {
          "output_type": "stream",
          "text": [
            "Test accuracy: 66.67 percent\n"
          ],
          "name": "stdout"
        }
      ]
    },
    {
      "cell_type": "code",
      "metadata": {
        "id": "N1H0u3lDvshe",
        "colab_type": "code",
        "colab": {
          "base_uri": "https://localhost:8080/",
          "height": 67
        },
        "outputId": "b8f707fc-e17a-46b2-8799-7b8d4e42b756"
      },
      "source": [
        "'''import numpy as np\n",
        "from sys import byteorder\n",
        "from array import array\n",
        "from struct import pack\n",
        "\n",
        "import pyaudio\n",
        "import wave\n",
        "import time\n",
        "%matplotlib inline\n",
        "THRESHOLD = 32000\n",
        "CHUNK_SIZE = 64\n",
        "FORMAT = pyaudio.paInt16\n",
        "RATE = 8000\n",
        "\n",
        "def is_silent(snd_data):\n",
        "    \"Returns 'True' if below the 'silent' threshold\"\n",
        "    return max(snd_data) < THRESHOLD\n",
        "\n",
        "def normalize(snd_data):\n",
        "    \"Average the volume out\"\n",
        "    MAXIMUM = 16384\n",
        "    times = float(MAXIMUM)/max(abs(i) for i in snd_data)\n",
        "\n",
        "    r = array('h')\n",
        "    for i in snd_data:\n",
        "        r.append(int(i*times))\n",
        "    return r\n",
        "\n",
        "def trim(snd_data):\n",
        "    \"Trim the blank spots at the start and end\"\n",
        "    def _trim(snd_data):\n",
        "        snd_started = False\n",
        "        r = array('h')\n",
        "\n",
        "        for i in snd_data:\n",
        "            if not snd_started and abs(i)>THRESHOLD:\n",
        "                snd_started = True\n",
        "                r.append(i)\n",
        "\n",
        "            elif snd_started:\n",
        "                r.append(i)\n",
        "        return r\n",
        "\n",
        "    # Trim to the left\n",
        "    snd_data = _trim(snd_data)\n",
        "\n",
        "    # Trim to the right\n",
        "    snd_data.reverse()\n",
        "    snd_data = _trim(snd_data)\n",
        "    snd_data.reverse()\n",
        "    return snd_data\n",
        "\n",
        "def add_silence(snd_data, seconds):\n",
        "    \"Add silence to the start and end of 'snd_data' of length 'seconds' (float)\"\n",
        "    r = array('h', [0 for i in xrange(int(seconds*RATE))])\n",
        "    r.extend(snd_data)\n",
        "    r.extend([0 for i in xrange(int(seconds*RATE))])\n",
        "    return r\n",
        "\n",
        "def record():\n",
        "    \"\"\"\n",
        "    Record a word or words from the microphone and \n",
        "    return the data as an array of signed shorts.\n",
        "\n",
        "    Normalizes the audio, trims silence from the \n",
        "    start and end, and pads with 0.5 seconds of \n",
        "    blank sound to make sure VLC et al can play \n",
        "    it without getting chopped off.\n",
        "    \"\"\"\n",
        "    p = pyaudio.PyAudio()\n",
        "    stream = p.open(format=FORMAT, channels=1, rate=RATE,\n",
        "        input=True, output=True,\n",
        "        frames_per_buffer=CHUNK_SIZE)\n",
        "\n",
        "    num_silent = 0\n",
        "    snd_started = False\n",
        "\n",
        "    r = array('h')\n",
        "\n",
        "    while 1:\n",
        "        # little endian, signed short\n",
        "        snd_data = array('h', stream.read(CHUNK_SIZE))\n",
        "        if byteorder == 'big':\n",
        "            snd_data.byteswap()\n",
        "        r.extend(snd_data)\n",
        "\n",
        "        silent = is_silent(snd_data)\n",
        "\n",
        "        if silent and snd_started:\n",
        "            num_silent += 1\n",
        "        elif not silent and not snd_started:\n",
        "            snd_started = True\n",
        "\n",
        "        if snd_started and num_silent > 30:\n",
        "            break\n",
        "\n",
        "    sample_width = p.get_sample_size(FORMAT)\n",
        "    stream.stop_stream()\n",
        "    stream.close()\n",
        "    p.terminate()\n",
        "\n",
        "    r = normalize(r)\n",
        "    r = trim(r)\n",
        "    r = add_silence(r, 0.01)\n",
        "    return sample_width, r\n",
        "\n",
        "def record_to_file(path):\n",
        "    \"Records from the microphone and outputs the resulting data to 'path'\"\n",
        "    sample_width, data = record()\n",
        "    data = pack('<' + ('h'*len(data)), *data)\n",
        "\n",
        "    wf = wave.open(path, 'wb')\n",
        "    wf.setnchannels(1)\n",
        "    wf.setsampwidth(sample_width)\n",
        "    wf.setframerate(RATE)\n",
        "    wf.writeframes(data)\n",
        "    wf.close()\n",
        "\n",
        "if __name__ == '__main__':\n",
        "    #print(\"start\")\n",
        "    \n",
        "    s=[\"apple\",\"banana\",\"cat\",\"dog\",\"eye\",\"fast\",\"gate\",\"human\",\"ice\",\"johnny\"]\n",
        "    for i,name in enumerate(s):\n",
        "        pathstart= \"/home/ashutosh/Downloads/hmm-speech-recognition-0.1/hmm-speech-recognition-0.1/Audio/\" + name\n",
        "        for i in range(15):\n",
        "            print(\"Please speak a word into the microphone for \" + name)\n",
        "            record_to_file(pathstart+\"/\"+ name + str(i))\n",
        "            time.sleep(0.5)\n",
        "        time.sleep(5)\n",
        "        print(\"Done\")\n",
        "    print(\"Please speak a word into the microphone for \")\n",
        "    record_to_file('/home/ashutosh/Downloads/Speech_Recognition/Audio/testaudio.wav')\n",
        "    print(\"Done\")'''\n",
        "\n",
        "new_data = np.zeros(5000)\n",
        "maxsize = 3841\n",
        "_, new_d = wavfile.read(\"Modelling-Driving-Behavior-using-HMM/Audio/human/human0.wav\")\n",
        "new_data[:new_d.shape[0]] = new_d\n",
        "new_data = new_data[:maxsize]\n",
        "#from array import array\n",
        "observation = []\n",
        "\n",
        "new_d = np.abs(stft(new_data))\n",
        "n_dim = 6\n",
        "new_obs = np.zeros((n_dim, new_d.shape[0]))\n",
        "for r in range(new_d.shape[0]):\n",
        "    _, t = peakfind(new_d[r, :], n_peaks=n_dim)\n",
        "    new_obs[:, r] = t.copy()\n",
        "observation.append(new_obs)\n",
        "observation = np.atleast_3d(observation)\n",
        "observation /= observation.sum(axis=1)\n",
        "#observation = array(\"i\", observation)\n",
        "ps_test = [m.transform(observation) for m in ms]\n",
        "res_test = np.vstack(ps_test)\n",
        "test_predicted_label = np.argmax(res_test, axis=0)\n",
        "word_spoken = dictionary[test_predicted_label.item()]\n",
        "print(word_spoken)\n"
      ],
      "execution_count": 21,
      "outputs": [
        {
          "output_type": "stream",
          "text": [
            "human\n"
          ],
          "name": "stdout"
        },
        {
          "output_type": "stream",
          "text": [
            "/usr/local/lib/python3.6/dist-packages/ipykernel_launcher.py:6: DeprecationWarning: scipy.hanning is deprecated and will be removed in SciPy 2.0.0, use numpy.hanning instead\n",
            "  \n"
          ],
          "name": "stderr"
        }
      ]
    },
    {
      "cell_type": "code",
      "metadata": {
        "id": "i3L0SD47_rLr",
        "colab_type": "code",
        "colab": {}
      },
      "source": [
        ""
      ],
      "execution_count": null,
      "outputs": []
    }
  ]
}